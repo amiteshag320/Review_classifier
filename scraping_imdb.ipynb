{
 "cells": [
  {
   "cell_type": "code",
   "execution_count": 1,
   "metadata": {},
   "outputs": [],
   "source": [
    "from bs4 import BeautifulSoup\n",
    "import os\n",
    "import pandas as pd\n",
    "import requests\n",
    "import re"
   ]
  },
  {
   "cell_type": "code",
   "execution_count": 2,
   "metadata": {},
   "outputs": [],
   "source": [
    "WEB =\"https://www.imdb.com/list/ls000634294/\"\n",
    "html_script = requests.get(WEB).text\n",
    "soup = BeautifulSoup(html_script,'html.parser')"
   ]
  },
  {
   "cell_type": "code",
   "execution_count": 3,
   "metadata": {},
   "outputs": [],
   "source": [
    "Movie= soup.find(\"div\",class_= \"lister-list\")\n",
    "movie_names_list=[]\n",
    "movie_link_lst=[]\n",
    "movie_id =[]\n",
    "review_links=[]\n",
    "movie_names = Movie.find_all(\"h3\",class_=\"lister-item-header\")\n",
    "for i in movie_names:\n",
    "    movie_lst = i.find(\"a\").text\n",
    "    movie_links = i.find(\"a\")[\"href\"]\n",
    "    final_links = \"https://www.imdb.com\"+movie_links+\"?ref_=ttls_li_tt\"\n",
    "    revie_links = \"https://www.imdb.com\"+movie_links+\"reviews?ref_=tt_urv\"\n",
    "    movie_id.append(movie_links[9:-1])\n",
    "    movie_link_lst.append(final_links) \n",
    "    movie_names_list.append(movie_lst)\n",
    "    review_links.append(revie_links)"
   ]
  },
  {
   "cell_type": "code",
   "execution_count": 4,
   "metadata": {},
   "outputs": [],
   "source": [
    "# if you want to have the movie time and movie genres\n",
    "# time_list=[]\n",
    "# genres_list=[]\n",
    "# for i in movie_link_lst:\n",
    "#     html_sc = requests.get(i).text\n",
    "#     info = BeautifulSoup(html_sc,'html.parser')\n",
    "#     yot = info.find(\"div\",\"titleBar\")\n",
    "#     time = yot.find(\"time\").text[25:33]\n",
    "#     genre = yot.find(\"div\",\"subtext\").findAll(\"a\")\n",
    "#     genres = [g.contents[0] for g in genre]\n",
    "#     genres = genres[:-1]\n",
    "#     genres_list.append(genres)\n",
    "#     time_list.append(time)\n"
   ]
  },
  {
   "cell_type": "code",
   "execution_count": 10,
   "metadata": {},
   "outputs": [
    {
     "data": {
      "text/plain": [
       "['https://www.imdb.com/title/tt0111161/reviews?ref_=tt_urv',\n",
       " 'https://www.imdb.com/title/tt0068646/reviews?ref_=tt_urv']"
      ]
     },
     "execution_count": 10,
     "metadata": {},
     "output_type": "execute_result"
    }
   ],
   "source": [
    "test = []\n",
    "test.append(review_links[0])\n",
    "test.append(review_links[1])\n",
    "test"
   ]
  },
  {
   "cell_type": "code",
   "execution_count": 12,
   "metadata": {},
   "outputs": [],
   "source": [
    "for i in review_links:\n",
    "    html = requests.get(i).text\n",
    "    inform = BeautifulSoup(html,\"html.parser\")\n",
    "    j = i[29:36]\n",
    "    z = inform.findAll(\"div\",\"text show-more__control\")\n",
    "    reviews = [m.text for m in z]\n",
    "    r = inform.findAll(\"span\",\"review-date\")\n",
    "    dates = [l.text for l in r]\n",
    "    rat = inform.findAll(\"div\",\"lister-item-content\")\n",
    "    ratings=[]\n",
    "    for ee in rat:\n",
    "        ra = ee.find(\"span\",\"rating-other-user-rating\")\n",
    "        if ra==None:\n",
    "            ratings.append(\" \")\n",
    "        else:\n",
    "            ratings.append(ra.contents[3].text)\n",
    "    hel = inform.findAll(\"div\",\"actions text-muted\")\n",
    "    helpful = []\n",
    "    helpful_out_of=[]\n",
    "    for h in hel:\n",
    "        helpf = h.contents[0]\n",
    "        helpf = re.sub(r'\\s+', ' ', helpf)\n",
    "        helpf = helpf.split(\" \")\n",
    "        helpful.append(helpf[1])\n",
    "        helpful_out_of.append(helpf[4])\n",
    "\n",
    "    uno = inform.find(\"div\",\"load-more-data\")[\"data-key\"]\n",
    "\n",
    "    while uno!=None:\n",
    "\n",
    "        page_url = \"https://www.imdb.com/title/tt\"+j+\"/reviews/_ajax?ref_=undefined&paginationKey={}\".format(uno)\n",
    "        code = requests.get(page_url).text\n",
    "        imp = BeautifulSoup(code,\"html.parser\")\n",
    "        k = imp.findAll(\"div\",\"text show-more__control\")\n",
    "        for s in k:\n",
    "            reviews.append(s.text)\n",
    "        t = imp.findAll(\"span\",\"review-date\")\n",
    "        for d in t:\n",
    "            dates.append(d.text)\n",
    "        ot = imp.findAll(\"div\",\"actions text-muted\")\n",
    "        for ha in ot:\n",
    "            he = ha.contents[0]\n",
    "            he = re.sub(r'\\s+', ' ', he)\n",
    "            he = he.split(\" \")\n",
    "            helpful.append(he[1])\n",
    "            helpful_out_of.append(he[4])\n",
    "        rats = imp.findAll(\"div\",\"lister-item-content\")\n",
    "        for aa in rats:\n",
    "            ro = aa.find(\"span\",\"rating-other-user-rating\")\n",
    "            if ro==None:\n",
    "                ratings.append(\" \")\n",
    "            else:\n",
    "                ratings.append(ro.contents[3].text)\n",
    "        try :\n",
    "            uno = imp.find(\"div\",\"load-more-data\")[\"data-key\"]\n",
    "        except TypeError:\n",
    "            break\n",
    "\n",
    "    df = pd.DataFrame({\"MovieId\":[j]*len(reviews), \"Reviews\" : reviews , \"Date\" : dates , \"Helpful\" : helpful , \"Helpful_out_of\" : helpful_out_of , \"Ratings_out_of_10\" : ratings })\n",
    "    df.to_csv(\"{}.csv\".format(j), index = False)"
   ]
  },
  {
   "cell_type": "code",
   "execution_count": 13,
   "metadata": {},
   "outputs": [
    {
     "data": {
      "text/plain": [
       "100"
      ]
     },
     "execution_count": 13,
     "metadata": {},
     "output_type": "execute_result"
    }
   ],
   "source": [
    "len(review_links)"
   ]
  },
  {
   "cell_type": "code",
   "execution_count": null,
   "metadata": {},
   "outputs": [],
   "source": []
  }
 ],
 "metadata": {
  "kernelspec": {
   "display_name": "Python 3",
   "language": "python",
   "name": "python3"
  },
  "language_info": {
   "codemirror_mode": {
    "name": "ipython",
    "version": 3
   },
   "file_extension": ".py",
   "mimetype": "text/x-python",
   "name": "python",
   "nbconvert_exporter": "python",
   "pygments_lexer": "ipython3",
   "version": "3.8.3"
  }
 },
 "nbformat": 4,
 "nbformat_minor": 4
}
