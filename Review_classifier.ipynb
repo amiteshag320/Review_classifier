{
  "nbformat": 4,
  "nbformat_minor": 0,
  "metadata": {
    "kernelspec": {
      "display_name": "Python 3",
      "language": "python",
      "name": "python3"
    },
    "language_info": {
      "codemirror_mode": {
        "name": "ipython",
        "version": 3
      },
      "file_extension": ".py",
      "mimetype": "text/x-python",
      "name": "python",
      "nbconvert_exporter": "python",
      "pygments_lexer": "ipython3",
      "version": "3.8.3"
    },
    "colab": {
      "name": "Review_classifier.ipynb",
      "provenance": [],
      "collapsed_sections": [],
      "toc_visible": true
    },
    "accelerator": "GPU"
  },
  "cells": [
    {
      "cell_type": "code",
      "metadata": {
        "id": "gNw9W0ut0Gh6"
      },
      "source": [
        "import pandas as pd\n",
        "import numpy as np\n",
        "import tensorflow as tf\n",
        "import string\n",
        "from tensorflow.keras.preprocessing.text import Tokenizer\n",
        "from tensorflow.keras.datasets import imdb\n",
        "from tensorflow.keras.models import Sequential\n",
        "from tensorflow.keras.layers import Dense, Dropout, Embedding, SpatialDropout1D\n",
        "from tensorflow.keras.layers import LSTM\n",
        "from tensorflow.keras.preprocessing.sequence import pad_sequences\n",
        "from glob import glob\n",
        "from keras.callbacks import ReduceLROnPlateau\n",
        "from tensorflow.keras.layers.experimental.preprocessing import TextVectorization\n",
        "from sklearn.model_selection import train_test_split\n",
        "import re\n",
        "from sklearn.feature_extraction.text import CountVectorizer\n",
        "\n"
      ],
      "execution_count": 1,
      "outputs": []
    },
    {
      "cell_type": "code",
      "metadata": {
        "id": "fqtzYVKo6hS_",
        "outputId": "f1e41050-68b3-41a3-b407-e881af6e05c2",
        "colab": {
          "base_uri": "https://localhost:8080/"
        }
      },
      "source": [
        "from google.colab import drive\n",
        "drive.mount('/content/drive')"
      ],
      "execution_count": 2,
      "outputs": [
        {
          "output_type": "stream",
          "text": [
            "Drive already mounted at /content/drive; to attempt to forcibly remount, call drive.mount(\"/content/drive\", force_remount=True).\n"
          ],
          "name": "stdout"
        }
      ]
    },
    {
      "cell_type": "code",
      "metadata": {
        "id": "5hB6ECOX0GiH"
      },
      "source": [
        "#files = glob('reviews/*.csv')\n",
        "#data=pd.concat((pd.read_csv(file) for file in files))\n",
        "\n",
        "data = pd.read_csv('/content/drive/My Drive/full_data.csv')"
      ],
      "execution_count": 3,
      "outputs": []
    },
    {
      "cell_type": "code",
      "metadata": {
        "id": "rPb9cgYN0GiT"
      },
      "source": [
        "data_mod = data.drop([\"movie_id\",\"date\",\"helpful\",\"helpful_out_of\"],axis=1)\n",
        "final_data = data_mod.dropna()"
      ],
      "execution_count": 4,
      "outputs": []
    },
    {
      "cell_type": "code",
      "metadata": {
        "id": "GogcU-KV0Gib",
        "outputId": "663db786-7389-4d08-e520-243214116bcc",
        "colab": {
          "base_uri": "https://localhost:8080/"
        }
      },
      "source": [
        "final_data[\"rating\"] = np.where(final_data['rating'] > 6.0, 1 , 0)\n"
      ],
      "execution_count": 5,
      "outputs": [
        {
          "output_type": "stream",
          "text": [
            "/usr/local/lib/python3.6/dist-packages/ipykernel_launcher.py:1: SettingWithCopyWarning: \n",
            "A value is trying to be set on a copy of a slice from a DataFrame.\n",
            "Try using .loc[row_indexer,col_indexer] = value instead\n",
            "\n",
            "See the caveats in the documentation: https://pandas.pydata.org/pandas-docs/stable/user_guide/indexing.html#returning-a-view-versus-a-copy\n",
            "  \"\"\"Entry point for launching an IPython kernel.\n"
          ],
          "name": "stderr"
        }
      ]
    },
    {
      "cell_type": "code",
      "metadata": {
        "id": "WlBX3Jxt5wiF"
      },
      "source": [
        "reviews = final_data['review']\n",
        "labels = final_data['rating']"
      ],
      "execution_count": 6,
      "outputs": []
    },
    {
      "cell_type": "code",
      "metadata": {
        "id": "SpXc-lnm58Fp"
      },
      "source": [
        "# tokenize the dataset corpus, delete uncommon words such as names, etc.\n",
        "tokenizer = Tokenizer(num_words=10000, oov_token=None)\n",
        "tokenizer.fit_on_texts(reviews)\n",
        "X = tokenizer.texts_to_sequences(reviews)\n",
        "X, y = np.array(X), np.array(labels)\n",
        "    # pad sequences with 0's\n",
        "X = pad_sequences(X, maxlen=100)\n",
        "X_train, X_val, Y_train, Y_val = train_test_split(X, y, test_size=0.25, random_state=1)"
      ],
      "execution_count": 7,
      "outputs": []
    },
    {
      "cell_type": "code",
      "metadata": {
        "id": "cdtJhLoD0Gir"
      },
      "source": [
        "lrr= ReduceLROnPlateau(monitor='val_accuracy', factor=.01,  patience=3, min_lr=1e-5)"
      ],
      "execution_count": 8,
      "outputs": []
    },
    {
      "cell_type": "code",
      "metadata": {
        "id": "hhNslmicB572"
      },
      "source": [
        ""
      ],
      "execution_count": 8,
      "outputs": []
    },
    {
      "cell_type": "code",
      "metadata": {
        "id": "yOUrI9k-0Gi2"
      },
      "source": [
        "# vector space embeddings\n",
        "n_dims = 64\n",
        "n_unique_words =10000\n",
        "# RNN layer architecture\n",
        "n_rnn = 128\n"
      ],
      "execution_count": 9,
      "outputs": []
    },
    {
      "cell_type": "code",
      "metadata": {
        "id": "4Tapb3PL0Gi7",
        "outputId": "645d4013-d52e-4a8a-cc13-c6fce386d3d0",
        "colab": {
          "base_uri": "https://localhost:8080/"
        }
      },
      "source": [
        "model = Sequential()\n",
        "model.add(Embedding(n_unique_words,n_dims,input_length=100))\n",
        "model.add(SpatialDropout1D(0.2))\n",
        "model.add(LSTM(n_rnn,dropout=0.2))\n",
        "model.add(Dense(1,activation = 'sigmoid'))\n",
        "model.summary()"
      ],
      "execution_count": 10,
      "outputs": [
        {
          "output_type": "stream",
          "text": [
            "Model: \"sequential\"\n",
            "_________________________________________________________________\n",
            "Layer (type)                 Output Shape              Param #   \n",
            "=================================================================\n",
            "embedding (Embedding)        (None, 100, 64)           640000    \n",
            "_________________________________________________________________\n",
            "spatial_dropout1d (SpatialDr (None, 100, 64)           0         \n",
            "_________________________________________________________________\n",
            "lstm (LSTM)                  (None, 128)               98816     \n",
            "_________________________________________________________________\n",
            "dense (Dense)                (None, 1)                 129       \n",
            "=================================================================\n",
            "Total params: 738,945\n",
            "Trainable params: 738,945\n",
            "Non-trainable params: 0\n",
            "_________________________________________________________________\n"
          ],
          "name": "stdout"
        }
      ]
    },
    {
      "cell_type": "code",
      "metadata": {
        "id": "0lATlGYk0GjB"
      },
      "source": [
        "model.compile(loss='binary_crossentropy', optimizer='nadam', metrics=['accuracy'])"
      ],
      "execution_count": 11,
      "outputs": []
    },
    {
      "cell_type": "code",
      "metadata": {
        "id": "HrWlzYf00GjG",
        "outputId": "a6e7c7aa-2cbd-4e02-e2c8-addebe2293a0",
        "colab": {
          "base_uri": "https://localhost:8080/"
        }
      },
      "source": [
        "hist = model.fit(X_train, Y_train, batch_size=32, epochs=15, verbose=1, validation_data=(X_val, Y_val), callbacks=[lrr])"
      ],
      "execution_count": null,
      "outputs": [
        {
          "output_type": "stream",
          "text": [
            "Epoch 1/15\n",
            "39452/39452 [==============================] - 588s 15ms/step - loss: 0.3250 - accuracy: 0.8614 - val_loss: 0.2926 - val_accuracy: 0.8766\n",
            "Epoch 2/15\n",
            "39452/39452 [==============================] - 596s 15ms/step - loss: 0.2850 - accuracy: 0.8808 - val_loss: 0.2797 - val_accuracy: 0.8837\n",
            "Epoch 3/15\n",
            "39452/39452 [==============================] - 586s 15ms/step - loss: 0.2722 - accuracy: 0.8871 - val_loss: 0.2776 - val_accuracy: 0.8856\n",
            "Epoch 4/15\n",
            "39452/39452 [==============================] - 579s 15ms/step - loss: 0.2643 - accuracy: 0.8912 - val_loss: 0.2709 - val_accuracy: 0.8879\n",
            "Epoch 5/15\n",
            "39452/39452 [==============================] - 571s 14ms/step - loss: 0.2595 - accuracy: 0.8936 - val_loss: 0.2700 - val_accuracy: 0.8889\n",
            "Epoch 6/15\n",
            "39452/39452 [==============================] - 563s 14ms/step - loss: 0.2558 - accuracy: 0.8958 - val_loss: 0.2693 - val_accuracy: 0.8891\n",
            "Epoch 7/15\n",
            "39452/39452 [==============================] - 562s 14ms/step - loss: 0.2524 - accuracy: 0.8972 - val_loss: 0.2709 - val_accuracy: 0.8896\n",
            "Epoch 8/15\n",
            "39452/39452 [==============================] - 561s 14ms/step - loss: 0.2504 - accuracy: 0.8979 - val_loss: 0.2690 - val_accuracy: 0.8895\n",
            "Epoch 9/15\n",
            "39452/39452 [==============================] - 555s 14ms/step - loss: 0.2485 - accuracy: 0.8991 - val_loss: 0.2676 - val_accuracy: 0.8902\n",
            "Epoch 10/15\n",
            "39452/39452 [==============================] - 563s 14ms/step - loss: 0.2470 - accuracy: 0.8996 - val_loss: 0.2694 - val_accuracy: 0.8903\n",
            "Epoch 11/15\n",
            "39452/39452 [==============================] - 561s 14ms/step - loss: 0.2455 - accuracy: 0.9003 - val_loss: 0.2681 - val_accuracy: 0.8896\n",
            "Epoch 12/15\n",
            "39452/39452 [==============================] - 560s 14ms/step - loss: 0.2445 - accuracy: 0.9007 - val_loss: 0.2731 - val_accuracy: 0.8888\n",
            "Epoch 13/15\n",
            "39452/39452 [==============================] - 600s 15ms/step - loss: 0.2370 - accuracy: 0.9044 - val_loss: 0.2719 - val_accuracy: 0.8900\n",
            "Epoch 14/15\n",
            "39452/39452 [==============================] - 615s 16ms/step - loss: 0.2358 - accuracy: 0.9048 - val_loss: 0.2723 - val_accuracy: 0.8901\n",
            "Epoch 15/15\n",
            "36281/39452 [==========================>...] - ETA: 45s - loss: 0.2351 - accuracy: 0.9050"
          ],
          "name": "stdout"
        }
      ]
    },
    {
      "cell_type": "code",
      "metadata": {
        "id": "XPb9HiQO0GjM"
      },
      "source": [
        ""
      ],
      "execution_count": null,
      "outputs": []
    }
  ]
}